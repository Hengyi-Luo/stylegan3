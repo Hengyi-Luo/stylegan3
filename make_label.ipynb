{
 "cells": [
  {
   "metadata": {
    "ExecuteTime": {
     "end_time": "2024-09-27T21:44:54.506727Z",
     "start_time": "2024-09-27T21:44:54.472727Z"
    }
   },
   "cell_type": "code",
   "source": [
    "# Re-import necessary libraries after code execution state reset\n",
    "import pandas as pd\n",
    "import json\n",
    "import os\n",
    "import numpy as np\n",
    "\n",
    "# Load the CSV file containing word and index mappings\n",
    "csv_path = './tmp/gan_image_128/1000_words.csv'  # Update this path as needed\n",
    "df = pd.read_csv(csv_path)\n",
    "\n",
    "# Create a dictionary mapping words to their indices\n",
    "word_to_index = dict(zip(df['word'], df['index']))\n",
    "\n",
    "# Directory containing your image files\n",
    "image_directory = './tmp/gan_image_128/image'  # Update this path as needed\n",
    "\n",
    "# Initialize the dictionary to store the labels\n",
    "labels_dict = {\"labels\": {}}\n",
    "\n",
    "# Iterate over the image files in the directory\n",
    "for image_file in os.listdir(image_directory):\n",
    "    if image_file.endswith('.png'):  # Ensure we only process .png files\n",
    "        # Extract the base name without the file extension\n",
    "        base_name = os.path.splitext(image_file)[0]\n",
    "        \n",
    "        # Split the base name into individual characters\n",
    "        characters = list(base_name)\n",
    "\n",
    "        # Convert each character to its corresponding index using the word_to_index dictionary\n",
    "        indices = [word_to_index[char] for char in characters if char in word_to_index]\n",
    "\n",
    "        # Store the indices list in the labels dictionary under the image file name\n",
    "        labels_dict[\"labels\"][image_file] = indices\n",
    "\n",
    "# Find the maximum length among all labels\n",
    "max_length = max(len(indices) for indices in labels_dict[\"labels\"].values())\n",
    "\n",
    "# Pad all labels to the maximum length using 0 as the padding value\n",
    "for image_file, indices in labels_dict[\"labels\"].items():\n",
    "    padded_indices = indices + [0] * (max_length - len(indices))  # Padding with 0\n",
    "    labels_dict[\"labels\"][image_file] = padded_indices\n",
    "\n",
    "# Save the labels dictionary to a dataset.json file\n",
    "json_path = './tmp/gan_image_128/dataset.json'  # Update this path as needed\n",
    "with open(json_path, 'w', encoding='utf-8') as json_file:\n",
    "    json.dump(labels_dict, json_file, ensure_ascii=False, indent=4)\n",
    "\n",
    "# Load the existing dataset.json file\n",
    "json_path = './tmp/gan_image_128/dataset.json'  # Ensure this path is correct\n",
    "with open(json_path, 'r', encoding='utf-8') as json_file:\n",
    "    labels_dict = json.load(json_file)\n",
    "\n",
    "# Add \"image/\" prefix to all image file paths in the labels dictionary\n",
    "updated_labels = {}\n",
    "for image_file, indices in labels_dict[\"labels\"].items():\n",
    "    new_name = f\"image/{image_file}\"  # Add the \"image/\" prefix\n",
    "    updated_labels[new_name] = indices\n",
    "\n",
    "# Replace the old labels with the updated labels\n",
    "labels_dict[\"labels\"] = updated_labels\n",
    "\n",
    "# Save the updated labels dictionary back to the dataset.json file\n",
    "with open(json_path, 'w', encoding='utf-8') as json_file:\n",
    "    json.dump(labels_dict, json_file, ensure_ascii=False, indent=4)\n",
    "\n",
    "json_path  # Output the path where the updated JSON file is saved\n"
   ],
   "id": "e6033f290ea30f17",
   "outputs": [
    {
     "data": {
      "text/plain": [
       "'./tmp/gan_image_128/dataset.json'"
      ]
     },
     "execution_count": 5,
     "metadata": {},
     "output_type": "execute_result"
    }
   ],
   "execution_count": 5
  },
  {
   "metadata": {},
   "cell_type": "code",
   "outputs": [],
   "execution_count": null,
   "source": "",
   "id": "515329d254e82432"
  }
 ],
 "metadata": {
  "kernelspec": {
   "display_name": "Python 3",
   "language": "python",
   "name": "python3"
  },
  "language_info": {
   "codemirror_mode": {
    "name": "ipython",
    "version": 2
   },
   "file_extension": ".py",
   "mimetype": "text/x-python",
   "name": "python",
   "nbconvert_exporter": "python",
   "pygments_lexer": "ipython2",
   "version": "2.7.6"
  }
 },
 "nbformat": 4,
 "nbformat_minor": 5
}
